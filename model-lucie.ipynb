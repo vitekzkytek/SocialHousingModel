{
 "cells": [
  {
   "cell_type": "markdown",
   "metadata": {
    "tags": []
   },
   "source": [
    "## Definitions"
   ]
  },
  {
   "cell_type": "code",
   "execution_count": null,
   "metadata": {},
   "outputs": [],
   "source": [
    "# writing into excel library - uncomment the following line if needed\n",
    "#!pip install openpyxl"
   ]
  },
  {
   "cell_type": "code",
   "execution_count": 1,
   "metadata": {
    "gather": {
     "logged": 1669214854363
    }
   },
   "outputs": [],
   "source": [
    "%matplotlib inline\n",
    "%load_ext autoreload\n",
    "%autoreload 2\n",
    "\n",
    "import pandas as pd\n",
    "import numpy as np\n",
    "import matplotlib.pyplot as plt\n",
    "from main import simulate_apartment_stock, generate_interventions, simulate_social_housing, calculate_costs\n",
    "from analysis import * \n",
    "import copy\n",
    "\n",
    "idx = pd.IndexSlice"
   ]
  },
  {
   "cell_type": "markdown",
   "metadata": {},
   "source": [
    "# Model systému podpory v bydlení\n",
    "- [Ospravedlnění parametrů zde](https://mmrcz.sharepoint.com/:x:/r/sites/MMR-Zkonopodpoevbydlen/_layouts/15/guestaccess.aspx?share=EUy9k9Fw9JRLulyihYTMte8BSMkRlmAFsrVMBXySWvKGGg)\n",
    "\n",
    "## Nabídka - byty v systému\n",
    "\n",
    "* Nabídka simuluje počet bytů v systému, které budou k dispozici pro domácnosti v bytové nouzi. Model simuluje zvlášť byty ze soukromého sektoru a byty, které jsou ve správě místních samospráv\n",
    "* Nastavení modelu vede k  (téměř) lineárnímu vkladu bytů do systému. Defaultní nastavení vede k tempu 5000 soukromých a pomalu rostoucích cca 3500 - 4000 městských bytů v systému ročně.\n",
    "\n",
    "### Garantované byty\n",
    "* Nabídka garantovaných bytů závisí primárně na konkurenceschopnosti podmínek pro pronajímatale a úspěšnosti komunikace\n",
    "* Jejich počet proto je modelován jediným parametrem: `guaranteed_yearly_apartments`.\n",
    "* Z komunikace s Romanem Matouškem proto vzešel návrh zvažovat tři scénáře: \n",
    "    - *Konzervativní* - 2 500 bytů ročně, tj. 10 bytů na ORP, tedy méně než 1 byt na ORP za měsíc\n",
    "    - *Střední* - 5 000 bytů ročně\n",
    "    - *Rozsáhlý* - 10 000 bytů ročně\n",
    "* Pokud není řečeno jinak je použit *střední scénář* \n",
    "\n",
    "### Obecní byty\n",
    "* Již dnes existuje cca 200 000 bytů - `municipal_apartments_today`\n",
    "* Z již existujících bytů se každoročně 1,5 % uvolní do systému sociálního bydlení - `municipal_existing_availability_rate`\n",
    "* I v budoucnu budou stavět nové městské byty - konzervativně předpokládáme 1000 bytů ročně - `municipal_yearly_new_apartments`\n",
    "* Z nových bytů předpokládáme, že by do systému výrazně větší část - klidně 50 % - `municipal_new_availability_rate`"
   ]
  },
  {
   "cell_type": "code",
   "execution_count": 2,
   "metadata": {
    "gather": {
     "logged": 1668416432666
    }
   },
   "outputs": [
    {
     "data": {
      "image/png": "[encoded data removed]",
      "text/plain": [
       "<Figure size 864x432 with 1 Axes>"
      ]
     },
     "metadata": {
      "needs_background": "light"
     },
     "output_type": "display_data"
    }
   ],
   "source": [
    "apartments = simulate_apartment_stock(\n",
    "    guaranteed_yearly_apartments=2000,\n",
    "    municipal_apartments_today=200000,\n",
    "    municipal_yearly_new_apartments=1000,\n",
    "    municipal_existing_availability_rate=.01,\n",
    "    municipal_new_availability_rate=.25,\n",
    "    years=np.arange(20)\n",
    ")\n",
    "apartments.plot.bar(grid=True,figsize=(12,6),title='Počet bytů vstupující do systému soc. bydlení (kumulativní součet)');"
   ]
  },
  {
   "cell_type": "markdown",
   "metadata": {
    "tags": []
   },
   "source": [
    "## Poptávka - lidé v bytové nouzi\n",
    "\n",
    "* Také poptávka je modelována 2 druhy domácností\n",
    "* Model prefenčně umísťuje *méně rizikové* domácnosti do *garantovaných* bytů a *rizikové* domácnosti do *obecních* bytů \n",
    "* Oba druhy domácností mají v čase lineární trend\n",
    "\n",
    "* Celkově je 50 000 domácností v bytové nouzi - z toho 65 % domácností jsou  *méně rizikové* domácnosti a  35 % *rizikové* domácnosti\n",
    "* Předpokládáme každoroční přísun dalších 5 000 domácností - z toho 65 % domácností jsou  *méně rizikové* domácnosti a  35 % *rizikové* domácnosti"
   ]
  },
  {
   "cell_type": "code",
   "execution_count": 3,
   "metadata": {
    "gather": {
     "logged": 1668417317496
    }
   },
   "outputs": [
    {
     "data": {
      "text/html": [
       "<div>\n",
       "<style scoped>\n",
       "    .dataframe tbody tr th:only-of-type {\n",
       "        vertical-align: middle;\n",
       "    }\n",
       "\n",
       "    .dataframe tbody tr th {\n",
       "        vertical-align: top;\n",
       "    }\n",
       "\n",
       "    .dataframe thead th {\n",
       "        text-align: right;\n",
       "    }\n",
       "</style>\n",
       "<table border=\"1\" class=\"dataframe\">\n",
       "  <thead>\n",
       "    <tr style=\"text-align: right;\">\n",
       "      <th></th>\n",
       "      <th>current_level</th>\n",
       "      <th>yearly_growth</th>\n",
       "    </tr>\n",
       "  </thead>\n",
       "  <tbody>\n",
       "    <tr>\n",
       "      <th>high</th>\n",
       "      <td>17500.0</td>\n",
       "      <td>450.0</td>\n",
       "    </tr>\n",
       "    <tr>\n",
       "      <th>low</th>\n",
       "      <td>32500.0</td>\n",
       "      <td>2550.0</td>\n",
       "    </tr>\n",
       "  </tbody>\n",
       "</table>\n",
       "</div>"
      ],
      "text/plain": [
       "      current_level  yearly_growth\n",
       "high        17500.0          450.0\n",
       "low         32500.0         2550.0"
      ]
     },
     "execution_count": 3,
     "metadata": {},
     "output_type": "execute_result"
    }
   ],
   "source": [
    "current_level = 50000\n",
    "yearly_growth = 3000 # upper estimate 6000\n",
    "\n",
    "high_current = .35\n",
    "high_yearly = .15\n",
    "\n",
    "hhs_inflow = pd.Series({\n",
    "    ('low','current_level'): (1 - high_current) * current_level,\n",
    "    ('low','yearly_growth'):(1 - high_yearly) * yearly_growth,\n",
    "    ('high','current_level'): high_current * current_level,\n",
    "    ('high','yearly_growth'): high_yearly * yearly_growth,\n",
    "}).unstack()\n",
    "hhs_inflow"
   ]
  },
  {
   "cell_type": "markdown",
   "metadata": {},
   "source": [
    "## Intervence a průchod domácnosti systémem\n",
    "### \"Měkké\" intervence\n",
    "* Pokud se domácnost dostane do BN, zařazuje se do tzv. fronty (`queue`).\n",
    "* Domácnosti ve frontě postupně dostávají intervence:\n",
    "    1. `self-help` - některé domácnosti si zvládnou pomoci samy a dostanou se ven z BN\n",
    "    2. `consulting` - další část domácností přijde pro poradenství na KMB a díky tomu se zvládnou dostat ven z BN\n",
    "    3. `mop_payment` - další část domácností po konzultaci na KMB dostane vyplacenou dávku MOP\n",
    "* V následující tabulce je uveden podíl domácností ve froně, kterým se dostane této podpory\n",
    "* Je třeba si uvědomit, že uvedené podíly se aplikují postupně a tedy postupně ubývá základ vůči kterému se podíly aplikují"
   ]
  },
  {
   "cell_type": "code",
   "execution_count": 4,
   "metadata": {
    "gather": {
     "logged": 1668419116440
    }
   },
   "outputs": [
    {
     "data": {
      "text/html": [
       "<div>\n",
       "<style scoped>\n",
       "    .dataframe tbody tr th:only-of-type {\n",
       "        vertical-align: middle;\n",
       "    }\n",
       "\n",
       "    .dataframe tbody tr th {\n",
       "        vertical-align: top;\n",
       "    }\n",
       "\n",
       "    .dataframe thead th {\n",
       "        text-align: right;\n",
       "    }\n",
       "</style>\n",
       "<table border=\"1\" class=\"dataframe\">\n",
       "  <thead>\n",
       "    <tr style=\"text-align: right;\">\n",
       "      <th></th>\n",
       "      <th>consulting</th>\n",
       "      <th>mop_payment</th>\n",
       "      <th>self_help</th>\n",
       "    </tr>\n",
       "  </thead>\n",
       "  <tbody>\n",
       "    <tr>\n",
       "      <th>high</th>\n",
       "      <td>0.05</td>\n",
       "      <td>0.1</td>\n",
       "      <td>0.1</td>\n",
       "    </tr>\n",
       "    <tr>\n",
       "      <th>low</th>\n",
       "      <td>0.10</td>\n",
       "      <td>0.2</td>\n",
       "      <td>0.2</td>\n",
       "    </tr>\n",
       "  </tbody>\n",
       "</table>\n",
       "</div>"
      ],
      "text/plain": [
       "      consulting  mop_payment  self_help\n",
       "high        0.05          0.1        0.1\n",
       "low         0.10          0.2        0.2"
      ]
     },
     "execution_count": 4,
     "metadata": {},
     "output_type": "execute_result"
    }
   ],
   "source": [
    "intervention_shares = pd.Series({\n",
    "    ('low','self_help'):.2,\n",
    "    ('low','consulting'):.1,\n",
    "    ('low','mop_payment'):.2,\n",
    "    ('high','self_help'):.1,\n",
    "    ('high','consulting'):.05,\n",
    "    ('high','mop_payment'):.1\n",
    "}).unstack()\n",
    "intervention_shares"
   ]
  },
  {
   "cell_type": "markdown",
   "metadata": {},
   "source": [
    "### Umístění do bytů\n",
    "* Domácnosti, které nezískají žádnou z \"měkkých\" intervencí se pokusíme umístit do bytů\n",
    "* Také zde probíhá konzultace s KMB - je třeba počítat s náklady\n",
    "* Po umístění do bytů probíhá sociální práce - Asistence v bydlení - je třeba počítat s náklady\n",
    "* Umístění do bytů probíhá dvou-fázově: \n",
    "    1. Primární umístění:\n",
    "        a. Méně rizikové domácnosti -> garantované bydlení\n",
    "        b. Rizikové domácnosti -> obecní byty\n",
    "    2. Sekundární umístění:\n",
    "        a. Rizikové domácnosti -> garantované bydlení\n",
    "        b. Méně rizikové domácnosti -> obecní byty\n",
    "* Vždy jsou umístěny všechny domácnosti do všech aktuálně dostupných bytů"
   ]
  },
  {
   "cell_type": "markdown",
   "metadata": {},
   "source": [
    "### Délka intervence"
   ]
  },
  {
   "cell_type": "markdown",
   "metadata": {},
   "source": [
    "* Každá intervence má jinou dobu trvání\n",
    "* Zatímco měkké intervence jsou jednorázové a z pohledu modelu trvají jeden rok, bydlení trvá déle"
   ]
  },
  {
   "cell_type": "code",
   "execution_count": 5,
   "metadata": {
    "gather": {
     "logged": 1668420932170
    }
   },
   "outputs": [
    {
     "data": {
      "text/plain": [
       "municipal      3\n",
       "guaranteed     2\n",
       "self_help      1\n",
       "mop_payment    1\n",
       "consulting     1\n",
       "dtype: int64"
      ]
     },
     "execution_count": 5,
     "metadata": {},
     "output_type": "execute_result"
    }
   ],
   "source": [
    "years_of_support = pd.Series({\n",
    "    'municipal':3, # or 5 years\n",
    "    'guaranteed':2,\n",
    "    'self_help':1,\n",
    "    'mop_payment':1,\n",
    "    'consulting':1\n",
    "})\n",
    "years_of_support"
   ]
  },
  {
   "cell_type": "markdown",
   "metadata": {
    "tags": []
   },
   "source": [
    "### Relaps - neúspěšné intervence\n",
    "\n",
    "* část domácností, se i přes to, že dostanou intervenci, se po čase zase vrátí do problémů\n",
    "* Tomu model říká \"relaps\" - po konci intervenci domácnost neopouští systém, ale vrací se zpátky do fronty\n",
    "* Tabulka níže ukazuje, jaká část domácností, které dostaly danou intervenci se po konci intervence vrací zpět do systému"
   ]
  },
  {
   "cell_type": "code",
   "execution_count": 6,
   "metadata": {
    "gather": {
     "logged": 1668420888065
    }
   },
   "outputs": [
    {
     "data": {
      "text/html": [
       "<div>\n",
       "<style scoped>\n",
       "    .dataframe tbody tr th:only-of-type {\n",
       "        vertical-align: middle;\n",
       "    }\n",
       "\n",
       "    .dataframe tbody tr th {\n",
       "        vertical-align: top;\n",
       "    }\n",
       "\n",
       "    .dataframe thead th {\n",
       "        text-align: right;\n",
       "    }\n",
       "</style>\n",
       "<table border=\"1\" class=\"dataframe\">\n",
       "  <thead>\n",
       "    <tr style=\"text-align: right;\">\n",
       "      <th></th>\n",
       "      <th>consulting</th>\n",
       "      <th>guaranteed</th>\n",
       "      <th>mop_payment</th>\n",
       "      <th>municipal</th>\n",
       "      <th>self_help</th>\n",
       "    </tr>\n",
       "  </thead>\n",
       "  <tbody>\n",
       "    <tr>\n",
       "      <th>high</th>\n",
       "      <td>0.5</td>\n",
       "      <td>0.30</td>\n",
       "      <td>0.3</td>\n",
       "      <td>0.30</td>\n",
       "      <td>0.6</td>\n",
       "    </tr>\n",
       "    <tr>\n",
       "      <th>low</th>\n",
       "      <td>0.2</td>\n",
       "      <td>0.05</td>\n",
       "      <td>0.1</td>\n",
       "      <td>0.05</td>\n",
       "      <td>0.2</td>\n",
       "    </tr>\n",
       "  </tbody>\n",
       "</table>\n",
       "</div>"
      ],
      "text/plain": [
       "      consulting  guaranteed  mop_payment  municipal  self_help\n",
       "high         0.5        0.30          0.3       0.30        0.6\n",
       "low          0.2        0.05          0.1       0.05        0.2"
      ]
     },
     "execution_count": 6,
     "metadata": {},
     "output_type": "execute_result"
    }
   ],
   "source": [
    "relapse_rates = pd.Series({\n",
    "    ('low','self_help'):.2,\n",
    "    ('low','consulting'):.2,\n",
    "    ('low','mop_payment'):.1,\n",
    "    ('low','guaranteed'):.05,\n",
    "    ('low','municipal'):.05,\n",
    "    ('high','self_help'):.6,\n",
    "    ('high','consulting'):.5,\n",
    "    ('high','mop_payment'):.3,\n",
    "    ('high','guaranteed'):.3,\n",
    "    ('high','municipal'):.3\n",
    "}).unstack()\n",
    "\n",
    "relapse_rates"
   ]
  },
  {
   "cell_type": "markdown",
   "metadata": {},
   "source": [
    "### Náklady intervencí\n",
    "\n",
    "* Rozlišujeme tři druhy nákladů:\n",
    "    * **Fixní** - náklady existence systému sociálního bydlení, zcela nezávislé na výkonu - např. IT systém. V modelu nejsou žádným způsobem zohledněny.\n",
    "    * **Vstupní** - náklady provedení intervence - například sehnání bytu do systému či vyplacení MOP\n",
    "    * **Průběžné/Roční** - náklady existující intervence - náklady bytu\n"
   ]
  },
  {
   "cell_type": "code",
   "execution_count": 7,
   "metadata": {
    "gather": {
     "logged": 1668420892092
    }
   },
   "outputs": [],
   "source": [
    "intervention_costs = pd.Series({\n",
    "    ('entry','self_help'):0,\n",
    "    ('entry','consulting'):5000,\n",
    "    ('entry','mop_payment'):15000,\n",
    "    ('entry','guaranteed'):5000,\n",
    "    ('entry','municipal'):5000,\n",
    "    ('entry', 'social_assistance'): 0,\n",
    "    ('yearly','self_help'):0,\n",
    "    ('yearly','consulting'):0,\n",
    "    ('yearly','mop_payment'):0,\n",
    "    ('yearly','guaranteed'):25000,\n",
    "    ('yearly','municipal'):25000,\n",
    "    ('yearly', 'social_assistance'): 75000\n",
    "}).unstack()\n",
    "\n"
   ]
  },
  {
   "cell_type": "markdown",
   "metadata": {
    "tags": []
   },
   "source": [
    "### Estimace modelu"
   ]
  },
  {
   "cell_type": "code",
   "execution_count": 8,
   "metadata": {
    "gather": {
     "logged": 1668420939838
    },
    "tags": []
   },
   "outputs": [],
   "source": [
    "DEFAULT_PARAMS = {\n",
    "    'years':np.arange(20),\n",
    "    'years_of_support':years_of_support,\n",
    "    'intervention_costs':intervention_costs,\n",
    "    'guaranteed_yearly_apartments':2000, # Upper estimate 5000\n",
    "    'municipal_apartments_today': 200000,\n",
    "    'municipal_yearly_new_apartments': 1000, # Upper estimate 1000\n",
    "    'municipal_existing_availability_rate': .01,\n",
    "    'municipal_new_availability_rate': .25,\n",
    "    'relapse_rates':relapse_rates,\n",
    "    'intervention_shares':intervention_shares,\n",
    "    'hhs_inflow':hhs_inflow\n",
    "}"
   ]
  },
  {
   "cell_type": "markdown",
   "metadata": {},
   "source": [
    "## Varianta 0"
   ]
  },
  {
   "cell_type": "code",
   "execution_count": null,
   "metadata": {},
   "outputs": [],
   "source": [
    "ni_relapse_rates = pd.Series({\n",
    "    ('low','self_help'):.2,\n",
    "    ('low','consulting'):.2,\n",
    "    ('low','mop_payment'):.1,\n",
    "    ('low','guaranteed'):.05,\n",
    "    ('low','municipal'):.05,\n",
    "    ('high','self_help'):.6,\n",
    "    ('high','consulting'):.5,\n",
    "    ('high','mop_payment'):.3,\n",
    "    ('high','guaranteed'):.3,\n",
    "    ('high','municipal'):.3\n",
    "}).unstack()\n",
    "\n",
    "ni_intervention_shares = pd.Series({\n",
    "    ('low','self_help'):.4, #\n",
    "    ('low','consulting'):.0,\n",
    "    ('low','mop_payment'):.02,\n",
    "    ('high','self_help'):.15,\n",
    "    ('high','consulting'):.0,\n",
    "    ('high','mop_payment'):.02\n",
    "}).unstack()\n",
    "\n",
    "NO_INTERVENTION_PARAMS = {\n",
    "    'years':np.arange(20),\n",
    "    'years_of_support':years_of_support,\n",
    "    'intervention_costs':intervention_costs,\n",
    "    'guaranteed_yearly_apartments':0, # Konzervativní odhad 2500 - 1 byt na měsíc pro každé ORP; Divoký odhad 10 000 bytl,\n",
    "    'municipal_apartments_today': 200000,\n",
    "    'municipal_yearly_new_apartments': 300,\n",
    "    'municipal_existing_availability_rate': .01,\n",
    "    'municipal_new_availability_rate': .01,\n",
    "    'relapse_rates':ni_relapse_rates,\n",
    "    'intervention_shares':ni_intervention_shares,\n",
    "    'hhs_inflow':hhs_inflow\n",
    "}"
   ]
  },
  {
   "cell_type": "code",
   "execution_count": 14,
   "metadata": {
    "gather": {
     "logged": 1668420949387
    }
   },
   "outputs": [
    {
     "data": {
      "image/png": "[encoded data removed]",
      "text/plain": [
       "<Figure size 864x432 with 1 Axes>"
      ]
     },
     "metadata": {
      "needs_background": "light"
     },
     "output_type": "display_data"
    }
   ],
   "source": [
    "from main import simulate_social_housing\n",
    "\n",
    "interventions, hhs, returnees, costs = simulate_social_housing(**DEFAULT_PARAMS, excel_file = 'basic_variant.xlsx')\n",
    "\n",
    "plot_basic_interventions(interventions);"
   ]
  },
  {
   "cell_type": "code",
   "execution_count": null,
   "metadata": {},
   "outputs": [],
   "source": [
    "interventions.unstack(['intervention_type','hh_risk']).round()"
   ]
  },
  {
   "cell_type": "code",
   "execution_count": null,
   "metadata": {},
   "outputs": [],
   "source": [
    "(hhs.round()['queue'] * 50148).sum(axis=1).plot.bar()"
   ]
  },
  {
   "cell_type": "code",
   "execution_count": null,
   "metadata": {},
   "outputs": [],
   "source": [
    "returnees"
   ]
  },
  {
   "cell_type": "code",
   "execution_count": null,
   "metadata": {},
   "outputs": [],
   "source": [
    "plot_basic_hhs(hhs);"
   ]
  },
  {
   "cell_type": "code",
   "execution_count": null,
   "metadata": {
    "gather": {
     "logged": 1668421048969
    }
   },
   "outputs": [],
   "source": [
    "plot_basic_returnees(returnees);"
   ]
  },
  {
   "cell_type": "code",
   "execution_count": null,
   "metadata": {
    "gather": {
     "logged": 1668421084428
    }
   },
   "outputs": [],
   "source": [
    "plot_basic_costs(costs);"
   ]
  },
  {
   "cell_type": "markdown",
   "metadata": {},
   "source": [
    "## Porovnávání alternativ"
   ]
  },
  {
   "cell_type": "code",
   "execution_count": null,
   "metadata": {},
   "outputs": [],
   "source": [
    "params_2 = copy.deepcopy(DEFAULT_PARAMS)\n",
    "params_2['hhs_inflow'].loc['high','yearly_growth'] = DEFAULT_PARAMS['hhs_inflow'].loc['high','yearly_growth'] * 2\n",
    "\n",
    "fig, axs = compute_variants(\n",
    "    params_1 = DEFAULT_PARAMS, \n",
    "    params_2 = params_2,\n",
    "    label_1 = 'variant 1 - 1750 yearly growth of high-risk households',\n",
    "    label_2 = 'variant 2 - 3500 yearly growth of high-risk households',\n",
    "    plot_function='plot_basic_costs'\n",
    ");"
   ]
  },
  {
   "cell_type": "code",
   "execution_count": null,
   "metadata": {},
   "outputs": [],
   "source": [
    "fig, axs = compute_variants(\n",
    "    params_1 = DEFAULT_PARAMS, \n",
    "    params_2 = NO_INTERVENTION_PARAMS,\n",
    "    label_1 = 'variant 1 ',\n",
    "    label_2 = 'variant 0 ',\n",
    "    plot_function='plot_basic_interventions'\n",
    ");"
   ]
  },
  {
   "cell_type": "code",
   "execution_count": null,
   "metadata": {
    "gather": {
     "logged": 1669275052896
    }
   },
   "outputs": [],
   "source": [
    "fig, axs = compute_variants(\n",
    "    params_1 = DEFAULT_PARAMS, \n",
    "    params_2 = NO_INTERVENTION_PARAMS,\n",
    "    label_1 = 'variant 1 ',\n",
    "    label_2 = 'variant 0 ',\n",
    "    plot_function='plot_basic_hhs'\n",
    ");"
   ]
  },
  {
   "cell_type": "code",
   "execution_count": null,
   "metadata": {},
   "outputs": [],
   "source": []
  }
 ],
 "metadata": {
  "instance_type": "ml.t3.medium",
  "kernel_info": {
   "name": "python38-azureml"
  },
  "kernelspec": {
   "display_name": "Python 3.8 - AzureML",
   "language": "python",
   "name": "python38-azureml"
  },
  "language_info": {
   "codemirror_mode": {
    "name": "ipython",
    "version": 3
   },
   "file_extension": ".py",
   "mimetype": "text/x-python",
   "name": "python",
   "nbconvert_exporter": "python",
   "pygments_lexer": "ipython3",
   "version": "3.8.5"
  },
  "microsoft": {
   "host": {
    "AzureML": {
     "notebookHasBeenCompleted": true
    }
   }
  },
  "nteract": {
   "version": "nteract-front-end@1.0.0"
  }
 },
 "nbformat": 4,
 "nbformat_minor": 4
}
