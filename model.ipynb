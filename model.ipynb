{
 "cells": [
  {
   "cell_type": "markdown",
   "metadata": {},
   "source": [
    "## Definitions"
   ]
  },
  {
   "cell_type": "code",
   "execution_count": 1,
   "metadata": {},
   "outputs": [],
   "source": [
    "%matplotlib inline\n",
    "%load_ext autoreload\n",
    "%autoreload 2\n",
    "\n",
    "import pandas as pd\n",
    "import numpy as np\n",
    "import matplotlib.pyplot as plt\n",
    "from matplotlib.ticker import FuncFormatter\n",
    "import pdb\n",
    "idx = pd.IndexSlice\n",
    "\n",
    "import matplotlib.colors\n",
    "\n",
    "custom_colors = [tuple(list(matplotlib.colors.to_rgb(c)) + [alpha]) for c in ['#1f77b4', '#ff7f0e', '#2ca02c', '#d62728', '#9467bd'] for alpha in (.5,1)]   "
   ]
  },
  {
   "cell_type": "markdown",
   "metadata": {},
   "source": [
    "## Parameters\n",
    "### Share of group queues that will receive an intervention each year"
   ]
  },
  {
   "cell_type": "code",
   "execution_count": 2,
   "metadata": {},
   "outputs": [
    {
     "data": {
      "text/html": [
       "<div>\n",
       "<style scoped>\n",
       "    .dataframe tbody tr th:only-of-type {\n",
       "        vertical-align: middle;\n",
       "    }\n",
       "\n",
       "    .dataframe tbody tr th {\n",
       "        vertical-align: top;\n",
       "    }\n",
       "\n",
       "    .dataframe thead th {\n",
       "        text-align: right;\n",
       "    }\n",
       "</style>\n",
       "<table border=\"1\" class=\"dataframe\">\n",
       "  <thead>\n",
       "    <tr style=\"text-align: right;\">\n",
       "      <th></th>\n",
       "      <th>consulting</th>\n",
       "      <th>mop_payment</th>\n",
       "      <th>self_help</th>\n",
       "    </tr>\n",
       "  </thead>\n",
       "  <tbody>\n",
       "    <tr>\n",
       "      <th>high</th>\n",
       "      <td>0.2</td>\n",
       "      <td>0.2</td>\n",
       "      <td>0.2</td>\n",
       "    </tr>\n",
       "    <tr>\n",
       "      <th>low</th>\n",
       "      <td>0.2</td>\n",
       "      <td>0.2</td>\n",
       "      <td>0.4</td>\n",
       "    </tr>\n",
       "  </tbody>\n",
       "</table>\n",
       "</div>"
      ],
      "text/plain": [
       "      consulting  mop_payment  self_help\n",
       "high         0.2          0.2        0.2\n",
       "low          0.2          0.2        0.4"
      ]
     },
     "execution_count": 2,
     "metadata": {},
     "output_type": "execute_result"
    }
   ],
   "source": [
    "intervention_shares = pd.Series({\n",
    "    ('low','self_help'):.4,\n",
    "    ('low','consulting'):.2,\n",
    "    ('low','mop_payment'):.2,\n",
    "    ('high','self_help'):.2,\n",
    "    ('high','consulting'):.2,\n",
    "    ('high','mop_payment'):.2\n",
    "}).unstack()\n",
    "intervention_shares"
   ]
  },
  {
   "cell_type": "markdown",
   "metadata": {},
   "source": [
    "### Share of intervened that will return to queue after receiving an intervention"
   ]
  },
  {
   "cell_type": "code",
   "execution_count": 3,
   "metadata": {},
   "outputs": [
    {
     "data": {
      "text/html": [
       "<div>\n",
       "<style scoped>\n",
       "    .dataframe tbody tr th:only-of-type {\n",
       "        vertical-align: middle;\n",
       "    }\n",
       "\n",
       "    .dataframe tbody tr th {\n",
       "        vertical-align: top;\n",
       "    }\n",
       "\n",
       "    .dataframe thead th {\n",
       "        text-align: right;\n",
       "    }\n",
       "</style>\n",
       "<table border=\"1\" class=\"dataframe\">\n",
       "  <thead>\n",
       "    <tr style=\"text-align: right;\">\n",
       "      <th></th>\n",
       "      <th>consulting</th>\n",
       "      <th>guaranteed</th>\n",
       "      <th>mop_payment</th>\n",
       "      <th>municipal</th>\n",
       "      <th>self_help</th>\n",
       "    </tr>\n",
       "  </thead>\n",
       "  <tbody>\n",
       "    <tr>\n",
       "      <th>high</th>\n",
       "      <td>0.5</td>\n",
       "      <td>0.1</td>\n",
       "      <td>0.3</td>\n",
       "      <td>0.1</td>\n",
       "      <td>0.7</td>\n",
       "    </tr>\n",
       "    <tr>\n",
       "      <th>low</th>\n",
       "      <td>0.6</td>\n",
       "      <td>0.2</td>\n",
       "      <td>0.4</td>\n",
       "      <td>0.2</td>\n",
       "      <td>0.8</td>\n",
       "    </tr>\n",
       "  </tbody>\n",
       "</table>\n",
       "</div>"
      ],
      "text/plain": [
       "      consulting  guaranteed  mop_payment  municipal  self_help\n",
       "high         0.5         0.1          0.3        0.1        0.7\n",
       "low          0.6         0.2          0.4        0.2        0.8"
      ]
     },
     "execution_count": 3,
     "metadata": {},
     "output_type": "execute_result"
    }
   ],
   "source": [
    "relapse_rates = pd.Series({\n",
    "    ('low','self_help'):.8,\n",
    "    ('low','consulting'):.6,\n",
    "    ('low','mop_payment'):.4,\n",
    "    ('low','guaranteed'):.2,\n",
    "    ('low','municipal'):.2,\n",
    "    ('high','self_help'):.7,\n",
    "    ('high','consulting'):.5,\n",
    "    ('high','mop_payment'):.3,\n",
    "    ('high','guaranteed'):.1,\n",
    "    ('high','municipal'):.1\n",
    "}).unstack()\n",
    "\n",
    "relapse_rates"
   ]
  },
  {
   "cell_type": "markdown",
   "metadata": {},
   "source": [
    "### Number of hhs in housing emergency"
   ]
  },
  {
   "cell_type": "code",
   "execution_count": 4,
   "metadata": {},
   "outputs": [
    {
     "data": {
      "text/html": [
       "<div>\n",
       "<style scoped>\n",
       "    .dataframe tbody tr th:only-of-type {\n",
       "        vertical-align: middle;\n",
       "    }\n",
       "\n",
       "    .dataframe tbody tr th {\n",
       "        vertical-align: top;\n",
       "    }\n",
       "\n",
       "    .dataframe thead th {\n",
       "        text-align: right;\n",
       "    }\n",
       "</style>\n",
       "<table border=\"1\" class=\"dataframe\">\n",
       "  <thead>\n",
       "    <tr style=\"text-align: right;\">\n",
       "      <th></th>\n",
       "      <th>current_level</th>\n",
       "      <th>yearly_growth</th>\n",
       "    </tr>\n",
       "  </thead>\n",
       "  <tbody>\n",
       "    <tr>\n",
       "      <th>high</th>\n",
       "      <td>17500.0</td>\n",
       "      <td>500.0</td>\n",
       "    </tr>\n",
       "    <tr>\n",
       "      <th>low</th>\n",
       "      <td>32500.0</td>\n",
       "      <td>500.0</td>\n",
       "    </tr>\n",
       "  </tbody>\n",
       "</table>\n",
       "</div>"
      ],
      "text/plain": [
       "      current_level  yearly_growth\n",
       "high        17500.0          500.0\n",
       "low         32500.0          500.0"
      ]
     },
     "execution_count": 4,
     "metadata": {},
     "output_type": "execute_result"
    }
   ],
   "source": [
    "hhs_inflow = pd.Series({\n",
    "    ('low','current_level'):.65 * 50000,\n",
    "    ('low','yearly_growth'):500,\n",
    "    ('high','current_level'):.35 * 50000,\n",
    "    ('high','yearly_growth'):500,\n",
    "}).unstack(1)\n",
    "hhs_inflow"
   ]
  },
  {
   "cell_type": "code",
   "execution_count": 5,
   "metadata": {},
   "outputs": [
    {
     "data": {
      "text/plain": [
       "municipal      5\n",
       "guaranteed     2\n",
       "self_help      1\n",
       "mop_payment    1\n",
       "consulting     1\n",
       "dtype: int64"
      ]
     },
     "execution_count": 5,
     "metadata": {},
     "output_type": "execute_result"
    }
   ],
   "source": [
    "years_of_support = pd.Series({\n",
    "    'municipal':5,\n",
    "    'guaranteed':2,\n",
    "    'self_help':1,\n",
    "    'mop_payment':1,\n",
    "    'consulting':1\n",
    "})\n",
    "years_of_support"
   ]
  },
  {
   "cell_type": "code",
   "execution_count": 6,
   "metadata": {},
   "outputs": [
    {
     "data": {
      "text/html": [
       "<div>\n",
       "<style scoped>\n",
       "    .dataframe tbody tr th:only-of-type {\n",
       "        vertical-align: middle;\n",
       "    }\n",
       "\n",
       "    .dataframe tbody tr th {\n",
       "        vertical-align: top;\n",
       "    }\n",
       "\n",
       "    .dataframe thead th {\n",
       "        text-align: right;\n",
       "    }\n",
       "</style>\n",
       "<table border=\"1\" class=\"dataframe\">\n",
       "  <thead>\n",
       "    <tr style=\"text-align: right;\">\n",
       "      <th></th>\n",
       "      <th>consulting</th>\n",
       "      <th>guaranteed</th>\n",
       "      <th>mop_payment</th>\n",
       "      <th>municipal</th>\n",
       "      <th>self_help</th>\n",
       "    </tr>\n",
       "  </thead>\n",
       "  <tbody>\n",
       "    <tr>\n",
       "      <th>fixed</th>\n",
       "      <td>5000</td>\n",
       "      <td>5000</td>\n",
       "      <td>15000</td>\n",
       "      <td>5000</td>\n",
       "      <td>0</td>\n",
       "    </tr>\n",
       "    <tr>\n",
       "      <th>variable</th>\n",
       "      <td>0</td>\n",
       "      <td>25000</td>\n",
       "      <td>0</td>\n",
       "      <td>25000</td>\n",
       "      <td>0</td>\n",
       "    </tr>\n",
       "  </tbody>\n",
       "</table>\n",
       "</div>"
      ],
      "text/plain": [
       "          consulting  guaranteed  mop_payment  municipal  self_help\n",
       "fixed           5000        5000        15000       5000          0\n",
       "variable           0       25000            0      25000          0"
      ]
     },
     "execution_count": 6,
     "metadata": {},
     "output_type": "execute_result"
    }
   ],
   "source": [
    "intervention_costs = pd.Series({\n",
    "    ('fixed','self_help'):0,\n",
    "    ('fixed','consulting'):5000,\n",
    "    ('fixed','mop_payment'):15000,\n",
    "    ('fixed','guaranteed'):5000,\n",
    "    ('fixed','municipal'):5000,\n",
    "    ('variable','self_help'):0,\n",
    "    ('variable','consulting'):0,\n",
    "    ('variable','mop_payment'):0,\n",
    "    ('variable','guaranteed'):25000,\n",
    "    ('variable','municipal'):25000\n",
    "}).unstack()\n",
    "intervention_costs"
   ]
  },
  {
   "cell_type": "code",
   "execution_count": 7,
   "metadata": {},
   "outputs": [],
   "source": [
    "DEFAULT_PARAMS = {\n",
    "    'years':np.arange(20),\n",
    "    'years_of_support':years_of_support,\n",
    "    'intervention_costs':intervention_costs,\n",
    "    'guaranteed_yearly_apartments':2500, # Konzervativní odhad 2500 - 1 byt na měsíc pro každé ORP; Divoký odhad 10 000 bytl,\n",
    "    'municipal_apartments_today': 200000,\n",
    "    'municipal_yearly_new_apartments': 1000,\n",
    "    'municipal_existing_availability_rate': .015,\n",
    "    'municipal_new_availability_rate': .3,\n",
    "    'low_risk_to_high_risk_transfer_share':1-.33,\n",
    "    'high_risk_to_low_risk_transfer_share':.33,\n",
    "    'relapse_rates':relapse_rates,\n",
    "    'intervention_shares':intervention_shares,\n",
    "    'hhs_inflow':hhs_inflow\n",
    "}"
   ]
  },
  {
   "cell_type": "code",
   "execution_count": 44,
   "metadata": {},
   "outputs": [
    {
     "data": {
      "image/png": "[encoded data removed]",
      "text/plain": [
       "<Figure size 864x432 with 1 Axes>"
      ]
     },
     "metadata": {
      "needs_background": "light"
     },
     "output_type": "display_data"
    }
   ],
   "source": [
    "from main import generate_interventions\n",
    "from supply import simulate_apartment_stock\n",
    "\n",
    "apartments = simulate_apartment_stock(\n",
    "    guaranteed_yearly_apartments=DEFAULT_PARAMS['guaranteed_yearly_apartments'],\n",
    "    municipal_apartments_today=DEFAULT_PARAMS['municipal_apartments_today'],\n",
    "    municipal_yearly_new_apartments=DEFAULT_PARAMS['municipal_yearly_new_apartments'],\n",
    "    municipal_existing_availability_rate=DEFAULT_PARAMS['municipal_existing_availability_rate'],\n",
    "    municipal_new_availability_rate=DEFAULT_PARAMS['municipal_new_availability_rate'],\n",
    "    years=DEFAULT_PARAMS['years']\n",
    ")\n",
    "\n",
    "interventions, hhs, returnees = generate_interventions(\n",
    "    apartments = apartments,\n",
    "    relapse_rates = DEFAULT_PARAMS['relapse_rates'],\n",
    "    intervention_shares = DEFAULT_PARAMS['intervention_shares'],\n",
    "    low_risk_to_high_risk_transfer_share = DEFAULT_PARAMS['low_risk_to_high_risk_transfer_share'],\n",
    "    high_risk_to_low_risk_transfer_share = DEFAULT_PARAMS['high_risk_to_low_risk_transfer_share'],\n",
    "    hhs_inflow = DEFAULT_PARAMS['hhs_inflow'],\n",
    "    years_of_support = DEFAULT_PARAMS['years_of_support'],\n",
    "    years = DEFAULT_PARAMS['years']\n",
    ")\n",
    "\n",
    "interventions.unstack(['intervention_type','hh_risk']).plot.bar(stacked=True, grid=True, figsize=(12,6),title='Počet podpořených domácností v daném roce',color=custom_colors);"
   ]
  },
  {
   "cell_type": "code",
   "execution_count": 45,
   "metadata": {},
   "outputs": [
    {
     "data": {
      "image/png": "[encoded data removed]",
      "text/plain": [
       "<Figure size 864x432 with 1 Axes>"
      ]
     },
     "metadata": {
      "needs_background": "light"
     },
     "output_type": "display_data"
    }
   ],
   "source": [
    "hhs.plot.bar(stacked=True, grid=True, figsize=(12,6),title='Domácností dle rizika a statusu',color=custom_colors);"
   ]
  },
  {
   "cell_type": "markdown",
   "metadata": {},
   "source": [
    " ## Nabídka - byty v systému\n",
    "\n",
    "* Nabídka simuluje počet bytů v systému, které budou k dispozici pro domácnosti v bytové nouzi. Model simuluje zvlášť byty ze soukromého sektoru a byty, které jsou ve správě místních samospráv\n",
    "* Nastavení modelu vede k  (téměř) lineárnímu vkladu bytů do systému. Defaultní nastavení vede k tempu 5000 soukromých a pomalu rostoucích cca 3500 - 4000 městských bytů v systému ročně.\n",
    "\n",
    "### Garantované byty\n",
    "* TODO přepsat všude na garantované\n",
    "* Nabídka soukromých bytů závisí primárně na konkurenceschopnosti podmínek pro pronajímatale a úspěšnosti komunikace\n",
    "* Jejich počet proto je modelován jediným parametrem: `private_yearly_apartments`.\n",
    "* Z komunikace s Romanem Matouškem proto vzešel návrh zvažovat tři scénáře: \n",
    "    - *Konzervativní* - 2 500 bytů ročně, tj. 10 bytů na ORP, tedy méně než 1 byt na ORP za měsíc\n",
    "    - *Střední* - 5 000 bytů ročně\n",
    "    - *Rozsáhlý* - 10 000 bytů ročně\n",
    "* Pokud není řečeno jinak je použit *střední scénář* \n",
    "\n",
    "### Obecní byty\n",
    "* Již dnes existuje cca 200 000 bytů - `municipal_apartments_today`\n",
    "* Z již existujících bytů se každoročně 1,5 % uvolní do systému sociálního bydlení - `municipal_existing_availability_rate`\n",
    "* I v budoucnu budou stavět nové městské byty - konzervativně předpokládáme 1000 bytů ročně - `municipal_yearly_new_apartments`\n",
    "* Z nových bytů předpokládáme, že by do systému výrazně větší část - klidně 50 % - `municipal_new_availability_rate`\n"
   ]
  },
  {
   "cell_type": "markdown",
   "metadata": {},
   "source": [
    "## Poptávka - lidé v bytové nouzi\n",
    "\n",
    "* Také poptávka je modelována 2 druhy domácností\n",
    "* Model prefenčně umísťuje *ekonomicky aktivní* domácnosti do *soukromých* bytů a *ekonomicky neaktivní* domácnosti do *obecních* bytů \n",
    "* Oba druhy domácností mají v čase lineární trend\n",
    "\n",
    "\n",
    "\n",
    "### Ekonomicky aktivní \n",
    "\n",
    "* Dnešní počet ekonomicky aktivních domácností v bytové nouzi je 43 250 - `active_current_hh_in_need`. Vychází ze Zprávy o vyloučení z bydlení 2021\n",
    "* Předpokládáme každoroční propad dalších 2000 domácností do bytové nouze -  `active_yearly_new_hh`.\n",
    "\n",
    "### Ekonomicky neaktivní\n",
    "* Dnešní počet ekonomicky neaktivních domácností v bytové nouzi je 60 000 - `inactive_current_hh_in_need`. Myslím, že na radu Romana Matouška.\n",
    "* Předpokládáme každoroční propad dalších 500 domácností do bytové nouze -  `inactive_yearly_new_hh`."
   ]
  },
  {
   "cell_type": "markdown",
   "metadata": {},
   "source": [
    "## Přemýšlení s Lucií - Nová struktura domácností\n",
    "- dělit domácnosti na méně a více rizikové \n",
    "- dle souběhu a typu rizik\n",
    "\n",
    "- typy rizik: \n",
    "    - neplnění finančních povinností - primárně řešeno dávkama - příspěvkem na bydlení\n",
    "    - kompetence v bydlení - společenské schopnosti, finanční gramotnost - potřebují asistenci v bydlení\n",
    "    - riziko vstupu na trh bydlení - diskriminace\n",
    "    \n",
    "### Mé\n",
    "\n",
    "###"
   ]
  },
  {
   "cell_type": "markdown",
   "metadata": {},
   "source": [
    "## Vypořádání modelu\n",
    "* Vypořádání probíhá každoročně\n",
    "* V průběh vypořádání se v modelu rozdělují tzv. jednorázové podpory (*soft interventions*) a *přidělují se byty*. Zároveň určitá část domácností situaci nezvládne i přes státní podporu - role tzv. *navrátilců* (`returnees`).\n",
    "\n",
    "### Jednorázové podpory\n",
    "* Určitá část domácností v daném roce čekající na podporu - `soft_intervention_share` - dostane jednorázovou podporu a hned v dalším roce vystupují ze systému.\n",
    "* Nicméně další část těchto domácností - `soft_relapse_rate` se hned další rok se dostane do systému znovu.\n",
    "\n",
    "### Přiiřazování bytů\n",
    "* Probíhá pro každou skupinu bytů i domácností zvlášť v předem daném pořadí\n",
    "* Pro každou skupinu se určí kolik domácností podporu žádá a kolik bytů má daná skupina k dispozici. Všechny byty, které jsou k dispozici a po kterých je poptávka se takto přidělí.\n",
    "* Přiřazování probíhá v následujícím pořadí, přičemž první dva body se vzájemně neruší\n",
    "    1. Ekonomicky aktivní do soukromých bytů \n",
    "    2. Ekonomicky nekativní do obecních bytů\n",
    "    3. Ekonomicky neaktivní do soukromých bytů\n",
    "    4. Ekonomicky aktivní do obecních bytů\n",
    "* Podpora v bydlení trvá omezenou dobu - `private_years_of_support` a `municipal_years_of_support`\n",
    "* Nicméně další část těchto domácností - `soft_relapse_rate` se hned o nějakou dobu později - `apartment_returnee_delay` dostane do systému znovu.\n",
    "\n",
    "\n",
    "\n",
    "### Lucie\n",
    "\n",
    "Domácnosti: \n",
    "* Ohrožení BN\n",
    "* Low Risk\n",
    "* High Risk\n",
    "\n",
    "Fronta:\n",
    "- LR + HR + OBN\n",
    "\n",
    "\n",
    "Intervence má vždy parametry:\n",
    " * zvlášť pro všechny typy domácností\n",
    " * podíl eligible\n",
    " * returnee rate\n",
    " \n",
    " \n",
    "U přidělování bytů everything goes. \n",
    "1. Self-help\n",
    "2. Consulting - vždy celá fronta (každý rok?) \n",
    "3. Consulting-help\n",
    "4. Intervence MOPka\n",
    "5. Prioritní assignment bytů\n",
    "    a.LR -> Garantované byty - returnees by se mohli stát high-risk. Left the system = Návrat do systému.\n",
    "    b. HR -> Obecní byty - samostatná škatulka returnees = odpad. \n",
    "6. Sekundární assignemnt bytů\n",
    "    a.LR -> Obecní byty\n",
    "    b. HR -> Garantované (chceme to vůbec dělat???)    "
   ]
  },
  {
   "cell_type": "code",
   "execution_count": null,
   "metadata": {},
   "outputs": [],
   "source": [
    "interventions.unstack(['intervention_type','hh_risk']).plot.bar(stacked=True, grid=True, figsize=(12,6),title='Počet podpořených domácností v daném roce',color=custom_colors);"
   ]
  },
  {
   "cell_type": "code",
   "execution_count": null,
   "metadata": {},
   "outputs": [],
   "source": [
    "hhs.loc[idx[:,'current_intervention',:]].unstack('hh_risk')#.plot.bar()"
   ]
  },
  {
   "cell_type": "code",
   "execution_count": null,
   "metadata": {},
   "outputs": [],
   "source": [
    "interventions.unstack(['hh_type','intervention_type']).sort_index(axis=1)"
   ]
  },
  {
   "cell_type": "code",
   "execution_count": null,
   "metadata": {},
   "outputs": [],
   "source": [
    "returnees.unstack(['intervention_type','hh_type']).plot.bar(stacked=True, grid=True, figsize=(12,6),title='Počet navrátilců v daném roce',color=custom_colors,legend=False);"
   ]
  },
  {
   "cell_type": "markdown",
   "metadata": {},
   "source": [
    "## Simulace alternativ\n",
    "* V následující sekci ukazuje možnosti modelu - zejména možnost posouvání jednotlivých parametrů a jejich vliv na výsledek\n",
    "* Grafy níže rozdělují celkový počet domácností, které kdy do daného roku vstoupili do bytové nouze (kumulativně) do následujících kategorií:\n",
    "    - `in_queue`  čekající na jakoukoliv podporu\n",
    "    - `recent_soft` - soft intervence v tomto roce \n",
    "    - `recent_self_help` - svépomoci v tomto roce \n",
    "    - `currently_in_municipal` - umístěni do obecního bytu - \n",
    "    - `currently_in_private` - umístěni do soukromého bytu - \n",
    "    - `outside` - vystoupivší ze systému.\n",
    "* Interpretaci tohoto grafu komplikují *relapses* - tedy podpořené domácnosti, které se ale přesto později do systému vrátili. V tuto chvíli jsou jednak v kategorii `outside`, ale ve stejný moment vstupují zároven zpět do systému do kategorie `in_queue`."
   ]
  },
  {
   "cell_type": "markdown",
   "metadata": {},
   "source": [
    "### Schopnost získat byty"
   ]
  },
  {
   "cell_type": "code",
   "execution_count": null,
   "metadata": {},
   "outputs": [],
   "source": [
    "from plotting import plot_single_param_variation, plot_two_param_variation\n",
    "\n",
    "plot_single_param_variation(\n",
    "    varied_param='private_yearly_apartments',\n",
    "    variations=[1000,2500,5000], \n",
    "    title_blueprint='{private_yearly_apartments} soukromých bytů ročně', \n",
    "    suptitle='Domácnosti v bytové nouzi procházející systémem dle počtu soukromých bytů ročně',\n",
    "    default_params = DEFAULT_PARAMS\n",
    ");"
   ]
  },
  {
   "cell_type": "code",
   "execution_count": null,
   "metadata": {},
   "outputs": [],
   "source": [
    "plot_two_param_variation(\n",
    "    first_param='private_yearly_apartments',\n",
    "    first_variations=[1000,2500,5000],\n",
    "    second_param='municipal_yearly_new_apartments',\n",
    "    second_variations=[0,1000,2000], \n",
    "    title_blueprint='{private_yearly_apartments} soukromých \\n {municipal_yearly_new_apartments} městských', \n",
    "    suptitle='Domácnosti v bytové nouzi procházející systémem dle počtu soukromých a městských bytů ročně',\n",
    "    default_params=DEFAULT_PARAMS\n",
    ");"
   ]
  },
  {
   "cell_type": "markdown",
   "metadata": {},
   "source": [
    "### Schopnost získat obecní byty do systému"
   ]
  },
  {
   "cell_type": "code",
   "execution_count": null,
   "metadata": {},
   "outputs": [],
   "source": [
    "plot_single_param_variation(\n",
    "    varied_param='municipal_existing_availability_rate', \n",
    "    variations=[0.01,0.025,0.05], \n",
    "    title_blueprint='{municipal_existing_availability_rate}% ze všech obecních bytů do systému ročně',\n",
    "    suptitle='Domácnosti v bytové nouzi procházející systémem dle schopnosti využívat existujících obecních bytů',\n",
    "    default_params=DEFAULT_PARAMS\n",
    ");"
   ]
  },
  {
   "cell_type": "markdown",
   "metadata": {},
   "source": [
    "### Schopnost stavět nové obecní byty"
   ]
  },
  {
   "cell_type": "code",
   "execution_count": null,
   "metadata": {},
   "outputs": [],
   "source": [
    "plot_single_param_variation(\n",
    "    varied_param='municipal_yearly_new_apartments', \n",
    "    variations=[0, 1000, 5000], \n",
    "    title_blueprint='{municipal_yearly_new_apartments} nových obecních bytů ročně',\n",
    "    suptitle='Domácnosti v bytové nouzi procházející systémem dle schopnosti stavět nové obecní byty',\n",
    "    default_params=DEFAULT_PARAMS\n",
    ");"
   ]
  },
  {
   "cell_type": "markdown",
   "metadata": {},
   "source": [
    "### Role jednorázové podpory\n",
    "- například dávky mimořádné okamžité pomoci"
   ]
  },
  {
   "cell_type": "code",
   "execution_count": null,
   "metadata": {},
   "outputs": [],
   "source": [
    "plot_single_param_variation(\n",
    "    varied_param='soft_intervention_share', \n",
    "    variations=[.0, .015, .02,.05], \n",
    "    title_blueprint='{soft_intervention_share}% čekajících domácností dostane jednorázovou podporu',\n",
    "    suptitle='Domácnosti v bytové nouzi procházející systémem dle míry čerpání jednorázové podpory',\n",
    "    default_params=DEFAULT_PARAMS\n",
    ");"
   ]
  },
  {
   "cell_type": "markdown",
   "metadata": {},
   "source": [
    "### Role \"svépomoci\""
   ]
  },
  {
   "cell_type": "code",
   "execution_count": null,
   "metadata": {},
   "outputs": [],
   "source": [
    "plot_two_param_variation(\n",
    "    first_param='active_self_help_share',\n",
    "    first_variations=[.05,.1,.15],\n",
    "    second_param='inactive_self_help_share',\n",
    "    second_variations=[.05,.1,.15], \n",
    "    title_blueprint='{active_self_help_share}% aktivních \\n {inactive_self_help_share}% neaktivních', \n",
    "    suptitle='Domácnosti v bytové nouzi procházející systémem dle schopnosti si \"poradit sami\"',\n",
    "    default_params=DEFAULT_PARAMS\n",
    ");"
   ]
  },
  {
   "cell_type": "code",
   "execution_count": null,
   "metadata": {},
   "outputs": [],
   "source": []
  }
 ],
 "metadata": {
  "instance_type": "ml.t3.medium",
  "kernel_info": {
   "name": "python38-azureml"
  },
  "kernelspec": {
   "display_name": "Python 3.8 - AzureML",
   "language": "python",
   "name": "python38-azureml"
  },
  "language_info": {
   "codemirror_mode": {
    "name": "ipython",
    "version": 3
   },
   "file_extension": ".py",
   "mimetype": "text/x-python",
   "name": "python",
   "nbconvert_exporter": "python",
   "pygments_lexer": "ipython3",
   "version": "3.8.5"
  },
  "nteract": {
   "version": "nteract-front-end@1.0.0"
  }
 },
 "nbformat": 4,
 "nbformat_minor": 4
}
